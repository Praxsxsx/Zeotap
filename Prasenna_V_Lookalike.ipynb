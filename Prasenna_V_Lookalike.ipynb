{
  "nbformat": 4,
  "nbformat_minor": 0,
  "metadata": {
    "colab": {
      "provenance": []
    },
    "kernelspec": {
      "name": "python3",
      "display_name": "Python 3"
    },
    "language_info": {
      "name": "python"
    }
  },
  "cells": [
    {
      "cell_type": "code",
      "execution_count": 1,
      "metadata": {
        "id": "d86Wu4B2w2FL"
      },
      "outputs": [],
      "source": [
        "import pandas as pd\n",
        "from sklearn.preprocessing import StandardScaler\n",
        "from sklearn.metrics.pairwise import cosine_similarity\n",
        "from sklearn.cluster import KMeans\n",
        "from sklearn.preprocessing import StandardScaler\n",
        "from sklearn.decomposition import PCA\n",
        "from sklearn.metrics import davies_bouldin_score\n",
        "import matplotlib.pyplot as plt\n",
        "import seaborn as sns"
      ]
    },
    {
      "cell_type": "code",
      "source": [
        "\n",
        "customers = pd.read_csv('/content/Customers.csv')\n",
        "transactions = pd.read_csv('//content/Transactions.csv')"
      ],
      "metadata": {
        "id": "LM1tTqaAHvu9"
      },
      "execution_count": 2,
      "outputs": []
    },
    {
      "cell_type": "code",
      "source": [
        "transaction = transactions.groupby('CustomerID').agg(\n",
        "    TotalSpent=('TotalValue', 'sum'),\n",
        "    TotalQuantity=('Quantity', 'sum'),\n",
        "    Transactions=('TransactionID', 'count')\n",
        ").reset_index()\n",
        "\n",
        "customerp = pd.merge(customers, transaction, on='CustomerID', how='inner')"
      ],
      "metadata": {
        "id": "zdRITamMHy6-"
      },
      "execution_count": 3,
      "outputs": []
    },
    {
      "cell_type": "code",
      "source": [
        "numericfeatures = ['TotalSpent', 'TotalQuantity', 'Transactions']\n",
        "scaler = StandardScaler()\n",
        "customerp[numericfeatures] = scaler.fit_transform(customerp[numericfeatures])"
      ],
      "metadata": {
        "id": "ZTX33SiyH2U-"
      },
      "execution_count": 4,
      "outputs": []
    },
    {
      "cell_type": "code",
      "source": [
        "def recommendc(inp, profiles, topn=3):\n",
        "    features = profiles[numericfeatures]\n",
        "    similaritym = cosine_similarity(features)\n",
        "    customerindex = profiles.index[profiles['CustomerID'] == inp][0]\n",
        "    similarityscores = list(enumerate(similaritym[customerindex]))\n",
        "    similarc = sorted(similarityscores, key=lambda x: x[1], reverse=True)\n",
        "\n",
        "    topsimilar = [\n",
        "        (profiles.iloc[idx]['CustomerID'], score)\n",
        "        for idx, score in similarc if idx != customerindex\n",
        "    ][:topn]\n",
        "\n",
        "    return pd.DataFrame(topsimilar, columns=['CustomerID', 'SimilarityScore'])\n",
        "\n"
      ],
      "metadata": {
        "id": "dHLwG_XrH7mp"
      },
      "execution_count": 5,
      "outputs": []
    },
    {
      "cell_type": "code",
      "source": [
        "toplookalikes = []\n",
        "\n",
        "for customer in customerp['CustomerID'].head(20):\n",
        "    rec = recommendc(customer, customerp)\n",
        "    rec['CustomerID'] = customer\n",
        "    toplookalikes.append(rec)\n",
        "\n",
        "lookalikesdf = pd.concat(toplookalikes, ignore_index=True)\n",
        "lookalikesdf.to_csv('toplookalikes.csv', index=False)"
      ],
      "metadata": {
        "id": "QIvRfKb3H9NI"
      },
      "execution_count": 6,
      "outputs": []
    },
    {
      "cell_type": "code",
      "source": [],
      "metadata": {
        "id": "rVysZvhrgUpJ"
      },
      "execution_count": null,
      "outputs": []
    }
  ]
}